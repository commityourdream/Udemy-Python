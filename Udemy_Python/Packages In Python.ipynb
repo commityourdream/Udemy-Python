{
 "cells": [
  {
   "cell_type": "markdown",
   "metadata": {},
   "source": [
    "#A module is simply a file containing Python definitions functions and statements putting code into\n",
    "modules is useful because of the ability to import the module functionality into your script a Python\n",
    "session."
   ]
  },
  {
   "cell_type": "markdown",
   "metadata": {},
   "source": [
    "#A package is just a way of collecting related modules\n",
    "together within a single tree like hierarchy very complex package like an NumPy and SciPy have hundreds\n",
    "of individual modules so putting them into a directory like structure keeps things organized and avoids\n",
    "name collisions."
   ]
  },
  {
   "cell_type": "markdown",
   "metadata": {},
   "source": [
    "# Steps "
   ]
  },
  {
   "cell_type": "markdown",
   "metadata": {},
   "source": [
    "1.Find Packages\n",
    "2.Install Packages\n",
    "3.Import Packages Or\n",
    "  Import Function\n"
   ]
  },
  {
   "cell_type": "markdown",
   "metadata": {},
   "source": [
    "1.search on github for packages"
   ]
  },
  {
   "cell_type": "markdown",
   "metadata": {},
   "source": [
    "2.conda install package name\n",
    "or pip install package name"
   ]
  },
  {
   "cell_type": "markdown",
   "metadata": {},
   "source": [
    "3.import package name"
   ]
  },
  {
   "cell_type": "markdown",
   "metadata": {},
   "source": [
    "for example\n",
    "import numpy"
   ]
  },
  {
   "cell_type": "code",
   "execution_count": null,
   "metadata": {},
   "outputs": [],
   "source": []
  }
 ],
 "metadata": {
  "kernelspec": {
   "display_name": "Python 2",
   "language": "python",
   "name": "python2"
  },
  "language_info": {
   "codemirror_mode": {
    "name": "ipython",
    "version": 2
   },
   "file_extension": ".py",
   "mimetype": "text/x-python",
   "name": "python",
   "nbconvert_exporter": "python",
   "pygments_lexer": "ipython2",
   "version": "2.7.15"
  }
 },
 "nbformat": 4,
 "nbformat_minor": 2
}
